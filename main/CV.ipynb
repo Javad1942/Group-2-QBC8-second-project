{
  "cells": [
    {
      "cell_type": "code",
      "execution_count": null,
      "metadata": {
        "id": "wvN1a7hgfaIY",
        "outputId": "8a9497a5-5555-4ae8-c5da-81649ec89e87"
      },
      "outputs": [
        {
          "name": "stdout",
          "output_type": "stream",
          "text": [
            "hello world\n"
          ]
        }
      ],
      "source": [
        "print('hello world')"
      ]
    },
    {
      "cell_type": "code",
      "source": [
        "from google.colab import drive\n",
        "drive.mount('/content/drive')"
      ],
      "metadata": {
        "id": "fQ92V4hejjIz",
        "outputId": "6d3523f0-7aa7-4ba3-aec8-b67c7eadcf4c",
        "colab": {
          "base_uri": "https://localhost:8080/"
        }
      },
      "execution_count": 1,
      "outputs": [
        {
          "output_type": "stream",
          "name": "stdout",
          "text": [
            "Mounted at /content/drive\n"
          ]
        }
      ]
    },
    {
      "cell_type": "code",
      "source": [
        "!ls \"/content/drive/My Drive/Colab Notebooks/second project/car_img-test.zip\"\n"
      ],
      "metadata": {
        "id": "YuCOaCEhkWzI",
        "outputId": "8b437ef5-d956-49e9-ad3b-bfd183fbd81f",
        "colab": {
          "base_uri": "https://localhost:8080/"
        }
      },
      "execution_count": 4,
      "outputs": [
        {
          "output_type": "stream",
          "name": "stdout",
          "text": [
            "car_img-test.zip  car_img-validation.zip  plate_image_with_dummy-train.zip\n"
          ]
        }
      ]
    },
    {
      "cell_type": "code",
      "source": [
        "import zipfile\n",
        "import os\n",
        "\n",
        "# Define paths to your zip files\n",
        "zip_files = [\n",
        "    \"/content/drive/My Drive/Colab Notebooks/second project/car_img-test.zip\",\n",
        "    \"/content/drive/My Drive/Colab Notebooks/second project/car_img-validation.zip\",\n",
        "    \"/content/drive/My Drive/Colab Notebooks/second project/plate_image_with_dummy-train.zip\"\n",
        "]\n",
        "\n",
        "# Create an output directory\n",
        "output_dir = \"/content/dataset\"\n",
        "os.makedirs(output_dir, exist_ok=True)\n",
        "\n",
        "# Extract all zip files\n",
        "for zip_path in zip_files:\n",
        "    with zipfile.ZipFile(zip_path, 'r') as zip_ref:\n",
        "        zip_ref.extractall(output_dir)\n",
        "        print(f\"Extracted: {zip_path}\")\n",
        "\n",
        "# Verify extracted content\n",
        "!ls \"/content/dataset\"\n"
      ],
      "metadata": {
        "id": "-P9iYHa2k0io",
        "outputId": "14dc911c-15ec-4ec1-e40e-00ec14cd085c",
        "colab": {
          "base_uri": "https://localhost:8080/"
        }
      },
      "execution_count": 5,
      "outputs": [
        {
          "output_type": "stream",
          "name": "stdout",
          "text": [
            "Extracted: /content/drive/My Drive/Colab Notebooks/second project/car_img-test.zip\n",
            "Extracted: /content/drive/My Drive/Colab Notebooks/second project/car_img-validation.zip\n",
            "Extracted: /content/drive/My Drive/Colab Notebooks/second project/plate_image_with_dummy-train.zip\n",
            "test  train  validation\n"
          ]
        }
      ]
    },
    {
      "cell_type": "code",
      "source": [
        "import os\n",
        "\n",
        "# Define dataset directories\n",
        "base_path = \"/content/dataset\"  # Change this if files are elsewhere\n",
        "\n",
        "# Define paths for car images\n",
        "test_images_path = os.path.join(base_path, \"test\")\n",
        "validation_images_path = os.path.join(base_path, \"validation\")\n",
        "\n",
        "# Define path for plate images (used for OCR training)\n",
        "plate_images_path = os.path.join(base_path, \"train\")\n",
        "\n",
        "# Check files inside each folder\n",
        "print(\"Test Images:\", len(os.listdir(test_images_path)))\n",
        "print(\"Validation Images:\", len(os.listdir(validation_images_path)))\n",
        "print(\"Plate Images:\", len(os.listdir(plate_images_path)))\n"
      ],
      "metadata": {
        "id": "LnPDNLwYoGNY",
        "outputId": "26805b92-423f-412c-a7c0-f0060954f6f4",
        "colab": {
          "base_uri": "https://localhost:8080/"
        }
      },
      "execution_count": 7,
      "outputs": [
        {
          "output_type": "stream",
          "name": "stdout",
          "text": [
            "Test Images: 8352\n",
            "Validation Images: 4240\n",
            "Plate Images: 90938\n"
          ]
        }
      ]
    }
  ],
  "metadata": {
    "kernelspec": {
      "display_name": "Python 3",
      "name": "python3"
    },
    "language_info": {
      "codemirror_mode": {
        "name": "ipython",
        "version": 3
      },
      "file_extension": ".py",
      "mimetype": "text/x-python",
      "name": "python",
      "nbconvert_exporter": "python",
      "pygments_lexer": "ipython3",
      "version": "3.12.7"
    },
    "colab": {
      "provenance": [],
      "gpuType": "V28"
    },
    "accelerator": "TPU"
  },
  "nbformat": 4,
  "nbformat_minor": 0
}